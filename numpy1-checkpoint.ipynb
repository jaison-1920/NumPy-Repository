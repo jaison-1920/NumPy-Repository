{
 "cells": [
  {
   "cell_type": "code",
   "execution_count": 1,
   "id": "ea545d2b",
   "metadata": {},
   "outputs": [],
   "source": [
    "import numpy as np"
   ]
  },
  {
   "cell_type": "code",
   "execution_count": 4,
   "id": "b2f7b316",
   "metadata": {},
   "outputs": [
    {
     "name": "stdout",
     "output_type": "stream",
     "text": [
      "[1 2 3 4 5]\n"
     ]
    },
    {
     "data": {
      "text/plain": [
       "numpy.ndarray"
      ]
     },
     "execution_count": 4,
     "metadata": {},
     "output_type": "execute_result"
    }
   ],
   "source": [
    "x = [1,2,3,4,5]\n",
    "arr = np.array(x)\n",
    "print(arr)\n",
    "type(arr)"
   ]
  },
  {
   "cell_type": "code",
   "execution_count": 5,
   "id": "b9d15b6b",
   "metadata": {},
   "outputs": [
    {
     "name": "stdout",
     "output_type": "stream",
     "text": [
      "enter : 12\n",
      "enter : 122\n",
      "enter : 11\n",
      "enter : 123\n",
      "enter : 14\n",
      "[ 12 122  11 123  14]\n"
     ]
    }
   ],
   "source": [
    "l = []\n",
    "for i in range(0,5):\n",
    "    int_1 = int(input(\"enter : \"))\n",
    "    l.append(int_1)\n",
    "print(np.array(l))"
   ]
  },
  {
   "cell_type": "code",
   "execution_count": 11,
   "id": "0f294152",
   "metadata": {},
   "outputs": [
    {
     "name": "stdout",
     "output_type": "stream",
     "text": [
      "[1 2 3 5]\n",
      "[[1 2 3 4]\n",
      " [1 2 3 5]]\n"
     ]
    }
   ],
   "source": [
    "arr1 = np.array([1,2,3,5])\n",
    "arr2 = np.array([[1,2,3,4],[1,2,3,5]])\n",
    "print(arr1)\n",
    "print(arr2)"
   ]
  },
  {
   "cell_type": "code",
   "execution_count": 12,
   "id": "fa462a9e",
   "metadata": {},
   "outputs": [
    {
     "name": "stdout",
     "output_type": "stream",
     "text": [
      "[[[12 11 13]\n",
      "  [ 1  2  3]\n",
      "  [ 1  3  5]]]\n",
      "3\n"
     ]
    }
   ],
   "source": [
    "arr3 = np.array([[[12,11,13],[1,2,3],[1,3,5]]])\n",
    "print(arr3)\n",
    "print(arr3.ndim)"
   ]
  },
  {
   "cell_type": "code",
   "execution_count": 14,
   "id": "3fd0bbca",
   "metadata": {},
   "outputs": [
    {
     "name": "stdout",
     "output_type": "stream",
     "text": [
      "[[[1 2 3 4]\n",
      "  [1 2 3 4]\n",
      "  [1 2 3 4]]\n",
      "\n",
      " [[1 2 3 4]\n",
      "  [1 2 3 4]\n",
      "  [1 2 3 4]]\n",
      "\n",
      " [[1 2 3 4]\n",
      "  [1 2 3 4]\n",
      "  [1 2 3 4]]]\n"
     ]
    },
    {
     "data": {
      "text/plain": [
       "3"
      ]
     },
     "execution_count": 14,
     "metadata": {},
     "output_type": "execute_result"
    }
   ],
   "source": [
    "arr4 = np.array([\n",
    "    [[1,2,3,4],[1,2,3,4],[1,2,3,4]],\n",
    "    [[1,2,3,4],[1,2,3,4],[1,2,3,4]],\n",
    "    [[1,2,3,4],[1,2,3,4],[1,2,3,4]]\n",
    "])\n",
    "print(arr4)\n",
    "arr4.ndim\n"
   ]
  },
  {
   "cell_type": "markdown",
   "id": "a2d42ab1",
   "metadata": {},
   "source": [
    "# zero array\n"
   ]
  },
  {
   "cell_type": "code",
   "execution_count": 20,
   "id": "6ba631fb",
   "metadata": {},
   "outputs": [
    {
     "name": "stdout",
     "output_type": "stream",
     "text": [
      "[0 0 0 0]\n"
     ]
    }
   ],
   "source": [
    "ar_zero = np.zeros(4,dtype=int)\n",
    "print(ar_zero)"
   ]
  },
  {
   "cell_type": "code",
   "execution_count": 17,
   "id": "7822d2e1",
   "metadata": {},
   "outputs": [
    {
     "name": "stdout",
     "output_type": "stream",
     "text": [
      "[[0. 0. 0.]\n",
      " [0. 0. 0.]\n",
      " [0. 0. 0.]\n",
      " [0. 0. 0.]]\n"
     ]
    }
   ],
   "source": [
    "ar_zero1 = np.zeros((4,3))\n",
    "print(ar_zero1)"
   ]
  },
  {
   "cell_type": "code",
   "execution_count": 18,
   "id": "b92a237b",
   "metadata": {},
   "outputs": [
    {
     "name": "stdout",
     "output_type": "stream",
     "text": [
      "[[[0. 0. 0.]\n",
      "  [0. 0. 0.]\n",
      "  [0. 0. 0.]\n",
      "  [0. 0. 0.]]\n",
      "\n",
      " [[0. 0. 0.]\n",
      "  [0. 0. 0.]\n",
      "  [0. 0. 0.]\n",
      "  [0. 0. 0.]]]\n"
     ]
    }
   ],
   "source": [
    "ar_zero2 = np.zeros((2,4,3))\n",
    "print(ar_zero2)"
   ]
  },
  {
   "cell_type": "markdown",
   "id": "2c47b594",
   "metadata": {},
   "source": [
    "# Ones array"
   ]
  },
  {
   "cell_type": "code",
   "execution_count": 25,
   "id": "9d7bcd7f",
   "metadata": {},
   "outputs": [
    {
     "name": "stdout",
     "output_type": "stream",
     "text": [
      "[1 1 1 1]\n"
     ]
    }
   ],
   "source": [
    "ar_one = np.ones(4,dtype=int)\n",
    "print(ar_one)"
   ]
  },
  {
   "cell_type": "code",
   "execution_count": 23,
   "id": "78c998c4",
   "metadata": {},
   "outputs": [
    {
     "name": "stdout",
     "output_type": "stream",
     "text": [
      "[[1. 1. 1.]\n",
      " [1. 1. 1.]\n",
      " [1. 1. 1.]\n",
      " [1. 1. 1.]]\n"
     ]
    }
   ],
   "source": [
    "ar_one1 = np.ones((4,3))\n",
    "print(ar_one1)"
   ]
  },
  {
   "cell_type": "code",
   "execution_count": 24,
   "id": "3d8182a4",
   "metadata": {},
   "outputs": [
    {
     "name": "stdout",
     "output_type": "stream",
     "text": [
      "[[[1. 1.]\n",
      "  [1. 1.]]\n",
      "\n",
      " [[1. 1.]\n",
      "  [1. 1.]]]\n"
     ]
    }
   ],
   "source": [
    "ar_one2 = np.ones((2,2,2))\n",
    "print(ar_one2)"
   ]
  },
  {
   "cell_type": "markdown",
   "id": "5585caa5",
   "metadata": {},
   "source": [
    "# empty array"
   ]
  },
  {
   "cell_type": "code",
   "execution_count": 31,
   "id": "77dd0f06",
   "metadata": {},
   "outputs": [
    {
     "name": "stdout",
     "output_type": "stream",
     "text": [
      "[2.12199579e-314 2.12199579e-314]\n"
     ]
    }
   ],
   "source": [
    "ar_empty = np.empty(2)\n",
    "print(ar_empty)"
   ]
  },
  {
   "cell_type": "markdown",
   "id": "4b006aea",
   "metadata": {},
   "source": [
    "# array with range of elements"
   ]
  },
  {
   "cell_type": "code",
   "execution_count": 32,
   "id": "6c8dcfde",
   "metadata": {},
   "outputs": [
    {
     "name": "stdout",
     "output_type": "stream",
     "text": [
      "[0 1 2 3 4]\n"
     ]
    }
   ],
   "source": [
    "ar_range = np.arange(5)\n",
    "print(ar_range)"
   ]
  },
  {
   "cell_type": "code",
   "execution_count": 34,
   "id": "8e4d9b0d",
   "metadata": {},
   "outputs": [
    {
     "name": "stdout",
     "output_type": "stream",
     "text": [
      "[[0 1 2 3]\n",
      " [4 5 6 7]]\n"
     ]
    }
   ],
   "source": [
    "ar_range1 = np.arange(8).reshape(2,4)\n",
    "print(ar_range1)"
   ]
  },
  {
   "cell_type": "markdown",
   "id": "cc24e5cf",
   "metadata": {},
   "source": [
    "# diagonal array with one"
   ]
  },
  {
   "cell_type": "code",
   "execution_count": 39,
   "id": "7658b114",
   "metadata": {},
   "outputs": [
    {
     "name": "stdout",
     "output_type": "stream",
     "text": [
      "[[1. 0.]\n",
      " [0. 1.]]\n"
     ]
    }
   ],
   "source": [
    "ar_dia = np.eye(2)\n",
    "print(ar_dia)"
   ]
  },
  {
   "cell_type": "code",
   "execution_count": 40,
   "id": "7f21bb0e",
   "metadata": {},
   "outputs": [
    {
     "name": "stdout",
     "output_type": "stream",
     "text": [
      "[[1. 0. 0. 0.]\n",
      " [0. 1. 0. 0.]\n",
      " [0. 0. 1. 0.]\n",
      " [0. 0. 0. 1.]]\n"
     ]
    }
   ],
   "source": [
    "ar_dia1 = np.eye(4)\n",
    "print(ar_dia1)"
   ]
  },
  {
   "cell_type": "code",
   "execution_count": 41,
   "id": "9f1c7120",
   "metadata": {},
   "outputs": [
    {
     "name": "stdout",
     "output_type": "stream",
     "text": [
      "[[1. 0. 0. 0.]\n",
      " [0. 1. 0. 0.]]\n"
     ]
    }
   ],
   "source": [
    "ar_dia2 = np.eye(2,4)\n",
    "print(ar_dia2)"
   ]
  },
  {
   "cell_type": "code",
   "execution_count": 42,
   "id": "9ee12101",
   "metadata": {},
   "outputs": [
    {
     "name": "stdout",
     "output_type": "stream",
     "text": [
      "[[1. 0. 0. 0. 0.]\n",
      " [0. 1. 0. 0. 0.]\n",
      " [0. 0. 1. 0. 0.]]\n"
     ]
    }
   ],
   "source": [
    "ar_dia2 = np.eye(3,5)\n",
    "print(ar_dia2)"
   ]
  },
  {
   "cell_type": "markdown",
   "id": "5f259b68",
   "metadata": {},
   "source": [
    "# Arrays with values spaced linearly in specified intervel"
   ]
  },
  {
   "cell_type": "code",
   "execution_count": 46,
   "id": "77519d4b",
   "metadata": {},
   "outputs": [
    {
     "name": "stdout",
     "output_type": "stream",
     "text": [
      "[ 0.  5. 10.]\n"
     ]
    }
   ],
   "source": [
    "ar_line = np.linspace(0,10,num=3)\n",
    "print(ar_line)"
   ]
  },
  {
   "cell_type": "code",
   "execution_count": 48,
   "id": "37778cf4",
   "metadata": {},
   "outputs": [
    {
     "name": "stdout",
     "output_type": "stream",
     "text": [
      "[ 0.  5. 10. 15. 20.]\n"
     ]
    }
   ],
   "source": [
    "ar_line1 = np.linspace(0,20,num=5)\n",
    "print(ar_line1)"
   ]
  },
  {
   "cell_type": "markdown",
   "id": "d1ce49b0",
   "metadata": {},
   "source": [
    "# creating array with random numbers\n",
    "# 1.rand() function"
   ]
  },
  {
   "cell_type": "markdown",
   "id": "f2435076",
   "metadata": {},
   "source": [
    "###  rand() function generates values in between 0 and 1"
   ]
  },
  {
   "cell_type": "code",
   "execution_count": 49,
   "id": "c5f20e1d",
   "metadata": {},
   "outputs": [
    {
     "name": "stdout",
     "output_type": "stream",
     "text": [
      "[0.71811719 0.25624212 0.09713509 0.18204789 0.81818375]\n"
     ]
    }
   ],
   "source": [
    "var = np.random.rand(5)\n",
    "print(var)"
   ]
  },
  {
   "cell_type": "code",
   "execution_count": 50,
   "id": "2e99b75c",
   "metadata": {},
   "outputs": [
    {
     "name": "stdout",
     "output_type": "stream",
     "text": [
      "[[0.24834075 0.10104275 0.28254549 0.046899   0.67547522]\n",
      " [0.56662736 0.98677796 0.15370272 0.52330384 0.45811441]]\n"
     ]
    }
   ],
   "source": [
    "var = np.random.rand(2,5)\n",
    "print(var)"
   ]
  },
  {
   "cell_type": "markdown",
   "id": "64b0c2e0",
   "metadata": {},
   "source": [
    "# 2.randn() function "
   ]
  },
  {
   "cell_type": "markdown",
   "id": "5a337f64",
   "metadata": {},
   "source": [
    "### randn() fn generates values close to zero. it can be either positive or negative"
   ]
  },
  {
   "cell_type": "code",
   "execution_count": 51,
   "id": "b803dfa3",
   "metadata": {},
   "outputs": [
    {
     "name": "stdout",
     "output_type": "stream",
     "text": [
      "[-0.1566493   0.50470951  1.46852293 -2.05162957 -0.1781608 ]\n"
     ]
    }
   ],
   "source": [
    "var1 = np.random.randn(5)\n",
    "print(var1)"
   ]
  },
  {
   "cell_type": "code",
   "execution_count": 53,
   "id": "b51fa8ba",
   "metadata": {},
   "outputs": [
    {
     "name": "stdout",
     "output_type": "stream",
     "text": [
      "[[ 0.07770083 -0.42308229  0.44823012]\n",
      " [ 1.0801226  -0.46264634 -1.81656982]\n",
      " [ 0.50287942  1.46610572 -0.08271372]]\n"
     ]
    }
   ],
   "source": [
    "var1 = np.random.randn(3,3)\n",
    "print(var1)"
   ]
  },
  {
   "cell_type": "markdown",
   "id": "9f0be067",
   "metadata": {},
   "source": [
    "# 3.ranf() function"
   ]
  },
  {
   "cell_type": "markdown",
   "id": "2a14b06e",
   "metadata": {},
   "source": [
    "### ranf() will load the array starting with 0.0 and ends with value less than 1.0. It will not include 1.0"
   ]
  },
  {
   "cell_type": "code",
   "execution_count": 55,
   "id": "4fc5fe9a",
   "metadata": {},
   "outputs": [
    {
     "name": "stdout",
     "output_type": "stream",
     "text": [
      "[0.77477529 0.34952848 0.83107933 0.77106607 0.70671586]\n"
     ]
    }
   ],
   "source": [
    "var2 = np.random.ranf(5)\n",
    "print(var2)"
   ]
  },
  {
   "cell_type": "code",
   "execution_count": 58,
   "id": "ce7fbf68",
   "metadata": {},
   "outputs": [
    {
     "name": "stdout",
     "output_type": "stream",
     "text": [
      "[[0.28275469 0.99147998 0.26604842]\n",
      " [0.24508838 0.53911584 0.09194362]]\n"
     ]
    }
   ],
   "source": [
    "var2 = np.random.ranf((2,3))\n",
    "print(var2)"
   ]
  },
  {
   "cell_type": "markdown",
   "id": "d7608290",
   "metadata": {},
   "source": [
    "# 4.randint() function"
   ]
  },
  {
   "cell_type": "markdown",
   "id": "911f26ba",
   "metadata": {},
   "source": [
    "### it creates random integers within a given range. we should mention a max value and a min value and the number of elements we needed"
   ]
  },
  {
   "cell_type": "code",
   "execution_count": 63,
   "id": "d88cc66b",
   "metadata": {},
   "outputs": [
    {
     "name": "stdout",
     "output_type": "stream",
     "text": [
      "[ 6  8 18 12  8 13 17 15 16 11 15 14  9 17 15 16 17  9 11 15]\n",
      "[[ 6  8 18 12  8]\n",
      " [13 17 15 16 11]\n",
      " [15 14  9 17 15]\n",
      " [16 17  9 11 15]]\n"
     ]
    }
   ],
   "source": [
    "var3 = np.random.randint(5,20,20)\n",
    "print(var3)\n",
    "reshape_var3 = var3.reshape(4,5)\n",
    "print(reshape_var3)"
   ]
  },
  {
   "cell_type": "markdown",
   "id": "2d3dbffc",
   "metadata": {},
   "source": [
    "# Arithmetic Operations"
   ]
  },
  {
   "cell_type": "markdown",
   "id": "ee4d16e2",
   "metadata": {},
   "source": [
    "### 1.addition"
   ]
  },
  {
   "cell_type": "code",
   "execution_count": 2,
   "id": "8ed81188",
   "metadata": {},
   "outputs": [
    {
     "name": "stdout",
     "output_type": "stream",
     "text": [
      "[4 5 6 7]\n"
     ]
    }
   ],
   "source": [
    "arr1 = np.array([1,2,3,4])\n",
    "res = arr1 + 3\n",
    "print(res)"
   ]
  },
  {
   "cell_type": "code",
   "execution_count": 3,
   "id": "5bb754de",
   "metadata": {},
   "outputs": [
    {
     "name": "stdout",
     "output_type": "stream",
     "text": [
      "[2 4 6 8]\n"
     ]
    }
   ],
   "source": [
    "arr1 = np.array([1,2,3,4])\n",
    "arr2 = np.array([1,2,3,4])\n",
    "res = arr1 + arr2\n",
    "print(res)\n"
   ]
  },
  {
   "cell_type": "code",
   "execution_count": 5,
   "id": "ed527404",
   "metadata": {},
   "outputs": [
    {
     "name": "stdout",
     "output_type": "stream",
     "text": [
      "[2 4 6 8]\n"
     ]
    }
   ],
   "source": [
    "arr1 = np.array([1,2,3,4])\n",
    "arr2 = np.array([1,2,3,4])\n",
    "res = np.add(arr1,arr2)\n",
    "print(res)"
   ]
  },
  {
   "cell_type": "markdown",
   "id": "ab645bfc",
   "metadata": {},
   "source": [
    "### 2.subtraction "
   ]
  },
  {
   "cell_type": "code",
   "execution_count": 6,
   "id": "d9fb396e",
   "metadata": {},
   "outputs": [
    {
     "name": "stdout",
     "output_type": "stream",
     "text": [
      "[0 1 2 3]\n"
     ]
    }
   ],
   "source": [
    "arr1 = np.array([1,2,3,4])\n",
    "res = arr1-1\n",
    "print(res)"
   ]
  },
  {
   "cell_type": "code",
   "execution_count": 7,
   "id": "130009eb",
   "metadata": {},
   "outputs": [
    {
     "name": "stdout",
     "output_type": "stream",
     "text": [
      "[4 4 4 4]\n"
     ]
    }
   ],
   "source": [
    "arr1 = np.array([5,6,7,8])\n",
    "arr2 = np.array([1,2,3,4])\n",
    "res = arr1 - arr2\n",
    "print(res)\n"
   ]
  },
  {
   "cell_type": "code",
   "execution_count": 8,
   "id": "8e5a3efa",
   "metadata": {},
   "outputs": [
    {
     "name": "stdout",
     "output_type": "stream",
     "text": [
      "[4 4 4 4]\n"
     ]
    }
   ],
   "source": [
    "arr1 = np.array([5,6,7,8])\n",
    "arr2 = np.array([1,2,3,4])\n",
    "res = np.subtract(arr1,arr2)\n",
    "print(res)\n"
   ]
  },
  {
   "cell_type": "markdown",
   "id": "636778ae",
   "metadata": {},
   "source": [
    "### 3.Multiply \n",
    "#### in this multiplication, in 1D and 2D elementry multiplication is takin place.  Not as matrix multiplication"
   ]
  },
  {
   "cell_type": "code",
   "execution_count": 9,
   "id": "d29179e4",
   "metadata": {},
   "outputs": [
    {
     "name": "stdout",
     "output_type": "stream",
     "text": [
      "[ 4 10 18]\n"
     ]
    }
   ],
   "source": [
    "arr1 = np.array([1,2,3])\n",
    "arr2 = np.array([4,5,6])\n",
    "res = arr1 * arr2\n",
    "print(res)"
   ]
  },
  {
   "cell_type": "code",
   "execution_count": 10,
   "id": "fecd8f45",
   "metadata": {},
   "outputs": [
    {
     "name": "stdout",
     "output_type": "stream",
     "text": [
      "[ 4 10 18]\n"
     ]
    }
   ],
   "source": [
    "arr1 = np.array([1,2,3])\n",
    "arr2 = np.array([4,5,6])\n",
    "res = np.multiply(arr1,arr2)\n",
    "print(res)"
   ]
  },
  {
   "cell_type": "code",
   "execution_count": 11,
   "id": "5ba51904",
   "metadata": {},
   "outputs": [
    {
     "name": "stdout",
     "output_type": "stream",
     "text": [
      "[3 6 9]\n"
     ]
    }
   ],
   "source": [
    "arr1 = np.array([1,2,3])\n",
    "res = arr1*3\n",
    "print(res)"
   ]
  },
  {
   "cell_type": "code",
   "execution_count": 19,
   "id": "7c71d3d1",
   "metadata": {},
   "outputs": [
    {
     "name": "stdout",
     "output_type": "stream",
     "text": [
      "[1 4 1 4 3 1]\n",
      "[[1 4 1]\n",
      " [4 3 1]]\n",
      "\n",
      "[2 2 3 3 2 2]\n",
      "[[2 2 3]\n",
      " [3 2 2]]\n",
      "\n",
      "[[ 2  8  3]\n",
      " [12  6  2]]\n",
      "\n",
      "[[ 2  8  3]\n",
      " [12  6  2]]\n"
     ]
    }
   ],
   "source": [
    "arr1 = np.random.randint(1,5,6)\n",
    "print(arr1)\n",
    "nw_arr1 = arr1.reshape(2,3)\n",
    "print(nw_arr1)\n",
    "print()\n",
    "arr2 = np.random.randint(1,5,6)\n",
    "print(arr2)\n",
    "nw_arr2 = arr2.reshape(2,3)\n",
    "print(nw_arr2)\n",
    "print()\n",
    "res1 = nw_arr1*nw_arr2\n",
    "res2 = np.multiply(nw_arr1,nw_arr2)\n",
    "print(res1)\n",
    "print()\n",
    "print(res2)"
   ]
  },
  {
   "cell_type": "markdown",
   "id": "a06e7148",
   "metadata": {},
   "source": [
    "### 4.divide\n"
   ]
  },
  {
   "cell_type": "code",
   "execution_count": 20,
   "id": "82ba163b",
   "metadata": {},
   "outputs": [
    {
     "name": "stdout",
     "output_type": "stream",
     "text": [
      "[ 5.   7.5 10. ]\n"
     ]
    }
   ],
   "source": [
    "arr1 = np.array([10,15,20])\n",
    "res = arr1/2\n",
    "print(res)"
   ]
  },
  {
   "cell_type": "code",
   "execution_count": 21,
   "id": "d4c0bc4d",
   "metadata": {},
   "outputs": [
    {
     "name": "stdout",
     "output_type": "stream",
     "text": [
      "[5. 5. 5.]\n"
     ]
    }
   ],
   "source": [
    "arr1 = np.array([10,15,20])\n",
    "arr2 = np.array([2,3,4])\n",
    "res = arr1/arr2\n",
    "print(res)"
   ]
  },
  {
   "cell_type": "code",
   "execution_count": 22,
   "id": "05a7fd8d",
   "metadata": {},
   "outputs": [
    {
     "name": "stdout",
     "output_type": "stream",
     "text": [
      "[5. 5. 5.]\n"
     ]
    }
   ],
   "source": [
    "arr1 = np.array([10,15,20])\n",
    "arr2 = np.array([2,3,4])\n",
    "res =  np.divide(arr1,arr2)\n",
    "print(res)"
   ]
  },
  {
   "cell_type": "markdown",
   "id": "bf572cc4",
   "metadata": {},
   "source": [
    "### 5.mod "
   ]
  },
  {
   "cell_type": "code",
   "execution_count": 23,
   "id": "73ce7da7",
   "metadata": {},
   "outputs": [
    {
     "name": "stdout",
     "output_type": "stream",
     "text": [
      "[0 0 0]\n"
     ]
    }
   ],
   "source": [
    "arr1 = np.array([10,15,20])\n",
    "arr2 = np.array([2,3,4])\n",
    "res =  np.mod(arr1,arr2)\n",
    "print(res)"
   ]
  },
  {
   "cell_type": "markdown",
   "id": "0c436e05",
   "metadata": {},
   "source": [
    "### power "
   ]
  },
  {
   "cell_type": "code",
   "execution_count": 24,
   "id": "6202531f",
   "metadata": {},
   "outputs": [
    {
     "name": "stdout",
     "output_type": "stream",
     "text": [
      "[   100   3375 160000]\n"
     ]
    }
   ],
   "source": [
    "arr1 = np.array([10,15,20])\n",
    "arr2 = np.array([2,3,4])\n",
    "res =  np.power(arr1,arr2)\n",
    "print(res)"
   ]
  },
  {
   "cell_type": "markdown",
   "id": "0f9faff4",
   "metadata": {},
   "source": [
    "### reciprocal "
   ]
  },
  {
   "cell_type": "code",
   "execution_count": 28,
   "id": "e5e703bb",
   "metadata": {},
   "outputs": [
    {
     "name": "stdout",
     "output_type": "stream",
     "text": [
      "[0.5   0.25  0.2   0.125]\n"
     ]
    }
   ],
   "source": [
    "arr1 = np.array([2,4,5,8],dtype=float)\n",
    "res = np.reciprocal(arr1)\n",
    "print(res)"
   ]
  },
  {
   "cell_type": "markdown",
   "id": "dbbb7bf6",
   "metadata": {},
   "source": [
    "# Arithmetic functions"
   ]
  },
  {
   "cell_type": "markdown",
   "id": "92d4ecd7",
   "metadata": {},
   "source": [
    "### to find the min , max and position of min and max. "
   ]
  },
  {
   "cell_type": "code",
   "execution_count": 31,
   "id": "26a886c3",
   "metadata": {},
   "outputs": [
    {
     "name": "stdout",
     "output_type": "stream",
     "text": [
      "min: 1\n",
      "max: 88\n",
      "minpos: 1\n",
      "maxpos: 5\n"
     ]
    }
   ],
   "source": [
    "var = np.array([1,3,5,2,88,34,36])\n",
    "print(\"min:\",np.min(var))\n",
    "print(\"max:\",np.max(var))\n",
    "print(\"minpos:\",np.argmin(var)+1)\n",
    "print(\"maxpos:\",np.argmax(var)+1)"
   ]
  },
  {
   "cell_type": "markdown",
   "id": "05cfb039",
   "metadata": {},
   "source": [
    "### for 2d array, we want to specify the axis too, axis 0 is for col and axis 1 is for row "
   ]
  },
  {
   "cell_type": "code",
   "execution_count": 37,
   "id": "3cbf3834",
   "metadata": {},
   "outputs": [
    {
     "name": "stdout",
     "output_type": "stream",
     "text": [
      "[18 34  2 45]\n",
      "[[4.24264069 6.4807407  8.54400375 6.70820393]\n",
      " [8.18535277 5.83095189 1.41421356 7.28010989]]\n"
     ]
    }
   ],
   "source": [
    "var1 = np.array([[18,42,73,45],[67,34,2,53]])\n",
    "print(np.min(var1,axis=0))\n",
    "print(np.sqrt(var1))"
   ]
  },
  {
   "cell_type": "code",
   "execution_count": 36,
   "id": "15eea9a8",
   "metadata": {},
   "outputs": [
    {
     "name": "stdout",
     "output_type": "stream",
     "text": [
      "[73 67] [3 1]\n"
     ]
    }
   ],
   "source": [
    "var1 = np.array([[18,42,73,45],[67,34,2,53]])\n",
    "print(np.max(var1,axis=1),np.argmax(var1,axis=1)+1)"
   ]
  },
  {
   "cell_type": "markdown",
   "id": "8a50e2cd",
   "metadata": {},
   "source": [
    "# shape"
   ]
  },
  {
   "cell_type": "code",
   "execution_count": 41,
   "id": "ceb8e8c8",
   "metadata": {},
   "outputs": [
    {
     "name": "stdout",
     "output_type": "stream",
     "text": [
      "(4,)\n"
     ]
    }
   ],
   "source": [
    "var = np.array([1,2,3,4])\n",
    "print(var.shape)"
   ]
  },
  {
   "cell_type": "markdown",
   "id": "ea7a88e6",
   "metadata": {},
   "source": [
    "# ndim"
   ]
  },
  {
   "cell_type": "code",
   "execution_count": 44,
   "id": "e30ccee2",
   "metadata": {},
   "outputs": [
    {
     "name": "stdout",
     "output_type": "stream",
     "text": [
      "(1, 1, 3)\n",
      "3\n"
     ]
    }
   ],
   "source": [
    "var = np.array([[[1,2,3]]])\n",
    "print(var.shape)\n",
    "print(var.ndim)"
   ]
  },
  {
   "cell_type": "markdown",
   "id": "83243240",
   "metadata": {},
   "source": [
    "# ndmin"
   ]
  },
  {
   "cell_type": "code",
   "execution_count": 46,
   "id": "d1ccee6c",
   "metadata": {},
   "outputs": [
    {
     "name": "stdout",
     "output_type": "stream",
     "text": [
      "[[1 2 3 4 5 6 7 8]]\n",
      "(1, 8)\n",
      "2\n"
     ]
    }
   ],
   "source": [
    "var = np.array([1,2,3,4,5,6,7,8],ndmin=2)\n",
    "print(var)\n",
    "print(var.shape)\n",
    "print(var.ndim)"
   ]
  },
  {
   "cell_type": "code",
   "execution_count": 47,
   "id": "575c12b9",
   "metadata": {},
   "outputs": [
    {
     "name": "stdout",
     "output_type": "stream",
     "text": [
      "[[[1 2 3 4]]]\n",
      "(1, 1, 4)\n",
      "3\n"
     ]
    }
   ],
   "source": [
    "var = np.array([[[1,2,3,4]]],ndmin=2)\n",
    "print(var)\n",
    "print(var.shape)\n",
    "print(var.ndim)"
   ]
  },
  {
   "cell_type": "markdown",
   "id": "c400301f",
   "metadata": {},
   "source": [
    "# reshape"
   ]
  },
  {
   "cell_type": "code",
   "execution_count": 54,
   "id": "e0c7a04c",
   "metadata": {},
   "outputs": [
    {
     "name": "stdout",
     "output_type": "stream",
     "text": [
      "[[1 2 3 4]\n",
      " [5 6 7 8]]\n"
     ]
    }
   ],
   "source": [
    "var = np.array([[1,2,3,4,5,6,7,8]])\n",
    "var1 = var.reshape(2,-1)\n",
    "print(var1)"
   ]
  },
  {
   "cell_type": "markdown",
   "id": "5b202582",
   "metadata": {},
   "source": [
    "# Indexing in array"
   ]
  },
  {
   "cell_type": "markdown",
   "id": "32c965ea",
   "metadata": {},
   "source": [
    "### indexing in 1d array "
   ]
  },
  {
   "cell_type": "code",
   "execution_count": 56,
   "id": "0a41e17c",
   "metadata": {},
   "outputs": [
    {
     "name": "stdout",
     "output_type": "stream",
     "text": [
      "4\n",
      "3\n"
     ]
    }
   ],
   "source": [
    "var = np.array([1,2,3,4])\n",
    "print(var[3])\n",
    "print(var[-2])"
   ]
  },
  {
   "cell_type": "markdown",
   "id": "490fd5e8",
   "metadata": {},
   "source": [
    "### indexing in 2d array "
   ]
  },
  {
   "cell_type": "code",
   "execution_count": 59,
   "id": "5264f537",
   "metadata": {},
   "outputs": [
    {
     "name": "stdout",
     "output_type": "stream",
     "text": [
      "[[1 2 3]\n",
      " [4 5 6]]\n",
      "2\n",
      "5\n"
     ]
    }
   ],
   "source": [
    "var = np.array([[1,2,3],[4,5,6]])\n",
    "print(var)\n",
    "print(var[0][1])\n",
    "print(var[-1][-2])"
   ]
  },
  {
   "cell_type": "markdown",
   "id": "2b69372b",
   "metadata": {},
   "source": [
    "### indexing in 3d array "
   ]
  },
  {
   "cell_type": "code",
   "execution_count": 67,
   "id": "32bca823",
   "metadata": {},
   "outputs": [
    {
     "name": "stdout",
     "output_type": "stream",
     "text": [
      "[[[1 2 3]\n",
      "  [1 2 3]]\n",
      "\n",
      " [[1 2 3]\n",
      "  [1 2 3]]]\n",
      "(2, 2, 3)\n",
      "3\n",
      "2\n"
     ]
    }
   ],
   "source": [
    "var = np.array([[[1,2,3],[1,2,3]],[[1,2,3],[1,2,3]]])\n",
    "print(var)\n",
    "print(var.shape)\n",
    "print(var[0][0][2])\n",
    "print(var[-1][-1][-2])"
   ]
  },
  {
   "cell_type": "markdown",
   "id": "799ccbae",
   "metadata": {},
   "source": [
    "# Slicing"
   ]
  },
  {
   "cell_type": "markdown",
   "id": "6cb4df0b",
   "metadata": {},
   "source": [
    "### slicing in 1d array "
   ]
  },
  {
   "cell_type": "code",
   "execution_count": 71,
   "id": "ffc5941b",
   "metadata": {},
   "outputs": [
    {
     "name": "stdout",
     "output_type": "stream",
     "text": [
      "[1 3 5]\n",
      "[1 2 3]\n",
      "[6 7 8 9]\n",
      "[2 4 6 8]\n"
     ]
    }
   ],
   "source": [
    "x = np.array([1,2,3,4,5,6,7,8,9])\n",
    "print(x[0:5:2])\n",
    "print(x[:3])\n",
    "print(x[5:])\n",
    "print(x[1::2])"
   ]
  },
  {
   "cell_type": "markdown",
   "id": "4169fca2",
   "metadata": {},
   "source": [
    "### slicing in 2d array "
   ]
  },
  {
   "cell_type": "code",
   "execution_count": 81,
   "id": "775301f1",
   "metadata": {},
   "outputs": [
    {
     "name": "stdout",
     "output_type": "stream",
     "text": [
      "[[ 1  2  3  4]\n",
      " [ 5  6  7  8]\n",
      " [ 9 10 11 12]\n",
      " [13 14 15 16]]\n",
      "\n",
      "[[ 3  4]\n",
      " [ 7  8]\n",
      " [11 12]\n",
      " [15 16]]\n",
      "\n",
      "[[ 2  3]\n",
      " [ 6  7]\n",
      " [10 11]\n",
      " [14 15]]\n",
      "\n",
      "[[ 7  8]\n",
      " [11 12]\n",
      " [15 16]]\n",
      "\n",
      "[[ 5  7]\n",
      " [ 9 11]\n",
      " [13 15]]\n"
     ]
    }
   ],
   "source": [
    "x = np.array([[1,2,3,4],[5,6,7,8],[9,10,11,12],[13,14,15,16]])\n",
    "print(x)\n",
    "print()\n",
    "print(x[0:,2:])\n",
    "print()\n",
    "print(x[0:,1:3])\n",
    "print()\n",
    "print(x[1:,2:])\n",
    "print()\n",
    "print(x[1:,::2])"
   ]
  },
  {
   "cell_type": "markdown",
   "id": "897f1c59",
   "metadata": {},
   "source": [
    "### slicing in 3d array "
   ]
  },
  {
   "cell_type": "code",
   "execution_count": 90,
   "id": "4d3e5212",
   "metadata": {},
   "outputs": [
    {
     "name": "stdout",
     "output_type": "stream",
     "text": [
      "(2, 3, 4)\n",
      "[[[ 1  2  3  4]\n",
      "  [ 5  6  7  8]\n",
      "  [ 9 10 11 12]]\n",
      "\n",
      " [[13 14 15 16]\n",
      "  [17 18 19 20]\n",
      "  [21 22 23 24]]]\n",
      "\n",
      "[[[ 1  3]\n",
      "  [ 9 11]]\n",
      "\n",
      " [[13 15]\n",
      "  [21 23]]]\n",
      "\n",
      "[[[ 6  7  8]\n",
      "  [10 11 12]]\n",
      "\n",
      " [[18 19 20]\n",
      "  [22 23 24]]]\n",
      "\n",
      "[[[18 19 20]\n",
      "  [22 23 24]]]\n"
     ]
    }
   ],
   "source": [
    "x = np.array([[[1,2,3,4],[5,6,7,8],[9,10,11,12]],[[13,14,15,16],[17,18,19,20],[21,22,23,24]]])\n",
    "print(x.shape)\n",
    "print(x)\n",
    "print()\n",
    "print(x[0:,::2,::2])\n",
    "print()\n",
    "print(x[0:,1:,1:])\n",
    "print()\n",
    "print(x[1:,1:,1:])"
   ]
  },
  {
   "cell_type": "markdown",
   "id": "0128151e",
   "metadata": {},
   "source": [
    "# Advanced indexing \n",
    "## 1.Integer indexing\n",
    "## 2. Boolean indexing"
   ]
  },
  {
   "cell_type": "markdown",
   "id": "2822e314",
   "metadata": {},
   "source": [
    "### Integer indexing in 1d array "
   ]
  },
  {
   "cell_type": "code",
   "execution_count": 95,
   "id": "9ffcff25",
   "metadata": {},
   "outputs": [
    {
     "name": "stdout",
     "output_type": "stream",
     "text": [
      "[2 4 6 7]\n",
      "[2 4 6 7]\n"
     ]
    }
   ],
   "source": [
    "var = np.array([1,2,3,4,5,6,7])\n",
    "index = [1,3,5,6]\n",
    "print(var[index])\n",
    "print(var[[1,3,5,6]])"
   ]
  },
  {
   "cell_type": "markdown",
   "id": "8a988f8b",
   "metadata": {},
   "source": [
    "### Integer indexing in multidimensional array and boolean indexing"
   ]
  },
  {
   "cell_type": "code",
   "execution_count": 6,
   "id": "643d9cbd",
   "metadata": {},
   "outputs": [
    {
     "name": "stdout",
     "output_type": "stream",
     "text": [
      "[[ 1  2  3  4]\n",
      " [ 5  6  7  8]\n",
      " [ 9 10 11 12]]\n",
      "[ 3  8 11]\n",
      "[ 7  8  9 10 11 12]\n"
     ]
    }
   ],
   "source": [
    "var = np.array([[1,2,3,4],[5,6,7,8],[9,10,11,12]])\n",
    "print(var)\n",
    "print(var[[0,1,2],[2,3,2]])\n",
    "print(var[var>6])"
   ]
  },
  {
   "cell_type": "markdown",
   "id": "8918d272",
   "metadata": {},
   "source": [
    "# broadcasting "
   ]
  },
  {
   "cell_type": "code",
   "execution_count": 9,
   "id": "7f7d5106",
   "metadata": {},
   "outputs": [
    {
     "name": "stdout",
     "output_type": "stream",
     "text": [
      "[[2 4]\n",
      " [6 8]\n",
      " [4 6]]\n"
     ]
    }
   ],
   "source": [
    "a = np.array([[1,2],[5,6],[3,4]])\n",
    "b = np.array([1,2,3])\n",
    "c = np.array([1,2])\n",
    "print(a+c)"
   ]
  },
  {
   "cell_type": "markdown",
   "id": "8f9df862",
   "metadata": {},
   "source": [
    "# resize"
   ]
  },
  {
   "cell_type": "code",
   "execution_count": 11,
   "id": "4909c1b0",
   "metadata": {},
   "outputs": [
    {
     "name": "stdout",
     "output_type": "stream",
     "text": [
      "[1 2 3 4]\n",
      "\n",
      "[[1 2 3]\n",
      " [4 1 2]]\n"
     ]
    }
   ],
   "source": [
    "arr = np.arange(1,5)\n",
    "print(arr)\n",
    "print()\n",
    "print(np.resize(arr,(2,3)))"
   ]
  },
  {
   "cell_type": "markdown",
   "id": "19c7351a",
   "metadata": {},
   "source": [
    "# flatten and ravel"
   ]
  },
  {
   "cell_type": "code",
   "execution_count": 15,
   "id": "2b117b1d",
   "metadata": {},
   "outputs": [
    {
     "name": "stdout",
     "output_type": "stream",
     "text": [
      "[1 2 3 4 5 6]\n"
     ]
    }
   ],
   "source": [
    "arr = np.array([[1,2,3],[4,5,6]])\n",
    "arr.flatten()\n",
    "print(np.ravel(arr))"
   ]
  },
  {
   "cell_type": "code",
   "execution_count": 16,
   "id": "cac35aac",
   "metadata": {},
   "outputs": [
    {
     "name": "stdout",
     "output_type": "stream",
     "text": [
      "[1 2 3 4 5 6]\n"
     ]
    }
   ],
   "source": [
    "arr = np.array([[1,2,3],[4,5,6]])\n",
    "print(np.ravel(arr))"
   ]
  },
  {
   "cell_type": "code",
   "execution_count": null,
   "id": "d151bb8c",
   "metadata": {},
   "outputs": [],
   "source": []
  }
 ],
 "metadata": {
  "kernelspec": {
   "display_name": "Python 3 (ipykernel)",
   "language": "python",
   "name": "python3"
  },
  "language_info": {
   "codemirror_mode": {
    "name": "ipython",
    "version": 3
   },
   "file_extension": ".py",
   "mimetype": "text/x-python",
   "name": "python",
   "nbconvert_exporter": "python",
   "pygments_lexer": "ipython3",
   "version": "3.10.9"
  }
 },
 "nbformat": 4,
 "nbformat_minor": 5
}
