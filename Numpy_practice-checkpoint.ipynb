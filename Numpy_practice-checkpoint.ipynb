{
 "cells": [
  {
   "cell_type": "code",
   "execution_count": 2,
   "id": "22950683",
   "metadata": {},
   "outputs": [],
   "source": [
    "import numpy as np"
   ]
  },
  {
   "cell_type": "markdown",
   "id": "50d4953e",
   "metadata": {},
   "source": [
    "# 1.elementry addition of two similiar arrays"
   ]
  },
  {
   "cell_type": "code",
   "execution_count": 4,
   "id": "0e19376b",
   "metadata": {},
   "outputs": [
    {
     "name": "stdout",
     "output_type": "stream",
     "text": [
      "[[1 2 3]\n",
      " [4 5 6]] [[4 5 6]\n",
      " [1 2 3]]\n"
     ]
    },
    {
     "data": {
      "text/plain": [
       "array([[5, 7, 9],\n",
       "       [5, 7, 9]])"
      ]
     },
     "execution_count": 4,
     "metadata": {},
     "output_type": "execute_result"
    }
   ],
   "source": [
    "a = np.array([[1,2,3,],[4,5,6]])\n",
    "b = np.array([[4,5,6,],[1,2,3]])\n",
    "print(a,b)\n",
    "c = a + b\n",
    "c"
   ]
  },
  {
   "cell_type": "markdown",
   "id": "9ea0b53c",
   "metadata": {},
   "source": [
    "# 2.Multiplying a matrix (numpy array) by a scalar"
   ]
  },
  {
   "cell_type": "code",
   "execution_count": 6,
   "id": "cfbb6bf5",
   "metadata": {},
   "outputs": [
    {
     "data": {
      "text/plain": [
       "array([[ 0,  2,  4],\n",
       "       [ 6,  8, 10]])"
      ]
     },
     "execution_count": 6,
     "metadata": {},
     "output_type": "execute_result"
    }
   ],
   "source": [
    "a1 = np.arange(0,6).reshape(2,3)\n",
    "a1*2"
   ]
  },
  {
   "cell_type": "markdown",
   "id": "b44e5c71",
   "metadata": {},
   "source": [
    "# Create an identity matrix of dimension 4-by-4"
   ]
  },
  {
   "cell_type": "code",
   "execution_count": 8,
   "id": "f00dade3",
   "metadata": {},
   "outputs": [
    {
     "data": {
      "text/plain": [
       "array([[1., 0., 0., 0.],\n",
       "       [0., 1., 0., 0.],\n",
       "       [0., 0., 1., 0.],\n",
       "       [0., 0., 0., 1.]])"
      ]
     },
     "execution_count": 8,
     "metadata": {},
     "output_type": "execute_result"
    }
   ],
   "source": [
    "a = np.eye(4)\n",
    "a"
   ]
  },
  {
   "cell_type": "markdown",
   "id": "d94a9cf6",
   "metadata": {},
   "source": [
    "# Convert a 1-D array to a 3-D array"
   ]
  },
  {
   "cell_type": "code",
   "execution_count": 9,
   "id": "105882fd",
   "metadata": {},
   "outputs": [
    {
     "data": {
      "text/plain": [
       "array([[[ 0,  1,  2,  3],\n",
       "        [ 4,  5,  6,  7],\n",
       "        [ 8,  9, 10, 11],\n",
       "        [12, 13, 14, 15]],\n",
       "\n",
       "       [[16, 17, 18, 19],\n",
       "        [20, 21, 22, 23],\n",
       "        [24, 25, 26, 27],\n",
       "        [28, 29, 30, 31]]])"
      ]
     },
     "execution_count": 9,
     "metadata": {},
     "output_type": "execute_result"
    }
   ],
   "source": [
    "a = np.arange(0,32).reshape(2,4,4)\n",
    "a"
   ]
  },
  {
   "cell_type": "markdown",
   "id": "2014c22a",
   "metadata": {},
   "source": [
    "# Horizontal Stacking of Numpy Arrays"
   ]
  },
  {
   "cell_type": "code",
   "execution_count": 11,
   "id": "1d2d855b",
   "metadata": {},
   "outputs": [
    {
     "data": {
      "text/plain": [
       "array([[ 0,  1,  2,  6,  7,  8],\n",
       "       [ 3,  4,  5,  9, 10, 11]])"
      ]
     },
     "execution_count": 11,
     "metadata": {},
     "output_type": "execute_result"
    }
   ],
   "source": [
    "a = np.arange(0,6).reshape(2,3)\n",
    "b = np.arange(6,12).reshape(2,3)\n",
    "c = np.hstack((a,b))\n",
    "c"
   ]
  },
  {
   "cell_type": "markdown",
   "id": "1e6101e2",
   "metadata": {},
   "source": [
    "# Vertical Stacking of Numpy Arrays"
   ]
  },
  {
   "cell_type": "code",
   "execution_count": 12,
   "id": "15cda828",
   "metadata": {},
   "outputs": [
    {
     "data": {
      "text/plain": [
       "array([[ 1,  2],\n",
       "       [ 3,  4],\n",
       "       [ 5,  6],\n",
       "       [ 7,  8],\n",
       "       [ 9, 10],\n",
       "       [10, 11]])"
      ]
     },
     "execution_count": 12,
     "metadata": {},
     "output_type": "execute_result"
    }
   ],
   "source": [
    "a1 = np.array([[1,2],\n",
    "               [3,4],\n",
    "               [5,6]])\n",
    "\n",
    "a2 = np.array([[7,8],\n",
    "               [9,10],\n",
    "               [10,11]])\n",
    "c = np.vstack((a1,a2))\n",
    "c"
   ]
  },
  {
   "cell_type": "markdown",
   "id": "a9a3ef27",
   "metadata": {},
   "source": [
    "## Random 10x10 array "
   ]
  },
  {
   "cell_type": "code",
   "execution_count": 3,
   "id": "155beefa",
   "metadata": {},
   "outputs": [
    {
     "data": {
      "text/plain": [
       "array([[ 0,  1,  2,  3,  4,  5,  6,  7,  8,  9],\n",
       "       [10, 11, 12, 13, 14, 15, 16, 17, 18, 19],\n",
       "       [20, 21, 22, 23, 24, 25, 26, 27, 28, 29],\n",
       "       [30, 31, 32, 33, 34, 35, 36, 37, 38, 39],\n",
       "       [40, 41, 42, 43, 44, 45, 46, 47, 48, 49],\n",
       "       [50, 51, 52, 53, 54, 55, 56, 57, 58, 59],\n",
       "       [60, 61, 62, 63, 64, 65, 66, 67, 68, 69],\n",
       "       [70, 71, 72, 73, 74, 75, 76, 77, 78, 79],\n",
       "       [80, 81, 82, 83, 84, 85, 86, 87, 88, 89],\n",
       "       [90, 91, 92, 93, 94, 95, 96, 97, 98, 99]])"
      ]
     },
     "execution_count": 3,
     "metadata": {},
     "output_type": "execute_result"
    }
   ],
   "source": [
    "a = np.arange(0,100).reshape(10,10)\n",
    "a"
   ]
  },
  {
   "cell_type": "code",
   "execution_count": 4,
   "id": "30c9ae86",
   "metadata": {},
   "outputs": [
    {
     "data": {
      "text/plain": [
       "array([[ 0, 10, 20, 30, 40, 50, 60, 70, 80, 90],\n",
       "       [ 1, 11, 21, 31, 41, 51, 61, 71, 81, 91],\n",
       "       [ 2, 12, 22, 32, 42, 52, 62, 72, 82, 92],\n",
       "       [ 3, 13, 23, 33, 43, 53, 63, 73, 83, 93],\n",
       "       [ 4, 14, 24, 34, 44, 54, 64, 74, 84, 94],\n",
       "       [ 5, 15, 25, 35, 45, 55, 65, 75, 85, 95],\n",
       "       [ 6, 16, 26, 36, 46, 56, 66, 76, 86, 96],\n",
       "       [ 7, 17, 27, 37, 47, 57, 67, 77, 87, 97],\n",
       "       [ 8, 18, 28, 38, 48, 58, 68, 78, 88, 98],\n",
       "       [ 9, 19, 29, 39, 49, 59, 69, 79, 89, 99]])"
      ]
     },
     "execution_count": 4,
     "metadata": {},
     "output_type": "execute_result"
    }
   ],
   "source": [
    "a.T"
   ]
  },
  {
   "cell_type": "markdown",
   "id": "75d50b1b",
   "metadata": {},
   "source": [
    "### creating a boolean array "
   ]
  },
  {
   "cell_type": "code",
   "execution_count": 6,
   "id": "f1e1d584",
   "metadata": {},
   "outputs": [
    {
     "data": {
      "text/plain": [
       "array([[ True,  True,  True],\n",
       "       [ True,  True,  True],\n",
       "       [ True,  True,  True]])"
      ]
     },
     "execution_count": 6,
     "metadata": {},
     "output_type": "execute_result"
    }
   ],
   "source": [
    "# creating a 3x3 array full of true\n",
    "a = np.ones((3,3),dtype=bool)\n",
    "a"
   ]
  },
  {
   "cell_type": "code",
   "execution_count": 11,
   "id": "c5b18a59",
   "metadata": {},
   "outputs": [
    {
     "data": {
      "text/plain": [
       "array([[ True,  True,  True],\n",
       "       [ True,  True,  True],\n",
       "       [ True,  True,  True]])"
      ]
     },
     "execution_count": 11,
     "metadata": {},
     "output_type": "execute_result"
    }
   ],
   "source": [
    "a = np.full((3,3),True,dtype=bool)\n",
    "a"
   ]
  },
  {
   "cell_type": "markdown",
   "id": "6c7cfedf",
   "metadata": {},
   "source": [
    "### from an array of 0 to 9 extract all the odd numbers"
   ]
  },
  {
   "cell_type": "code",
   "execution_count": 13,
   "id": "f7587d24",
   "metadata": {},
   "outputs": [
    {
     "data": {
      "text/plain": [
       "array([1, 3, 5, 7, 9])"
      ]
     },
     "execution_count": 13,
     "metadata": {},
     "output_type": "execute_result"
    }
   ],
   "source": [
    "a = np.arange(0,10)\n",
    "a[a%2==1]"
   ]
  },
  {
   "cell_type": "markdown",
   "id": "518b16ed",
   "metadata": {},
   "source": [
    "#### replace all the odd number with -1 "
   ]
  },
  {
   "cell_type": "code",
   "execution_count": 22,
   "id": "12d74ccc",
   "metadata": {},
   "outputs": [
    {
     "data": {
      "text/plain": [
       "array([-1,  2, -1,  4, -1,  6, -1,  8, -1, 10])"
      ]
     },
     "execution_count": 22,
     "metadata": {},
     "output_type": "execute_result"
    }
   ],
   "source": [
    "a = np.arange(1,11)\n",
    "a[a%2!=0]=-1\n",
    "a"
   ]
  },
  {
   "cell_type": "markdown",
   "id": "4be4b6b3",
   "metadata": {},
   "source": [
    "#### replace all odd number with -1 without changing the array "
   ]
  },
  {
   "cell_type": "code",
   "execution_count": 25,
   "id": "e748e813",
   "metadata": {},
   "outputs": [
    {
     "name": "stdout",
     "output_type": "stream",
     "text": [
      "[0 1 2 3 4 5 6 7 8 9]\n",
      "[ 0 -1  2 -1  4 -1  6 -1  8 -1]\n"
     ]
    }
   ],
   "source": [
    "# np.where(condition,x,y) is a function used in conditional situations. First condition will be given, if the condition is\n",
    "# satisfying,then x will work ,if not y will work. Here if array value is odd, then -1 will be assigned , if not the \n",
    "# corresponding array value will be assigned\n",
    "a = np.arange(0,10)\n",
    "out = np.where(a%2==1,-1,a)\n",
    "print(a)\n",
    "print(out)"
   ]
  },
  {
   "cell_type": "code",
   "execution_count": 6,
   "id": "ace16d3a",
   "metadata": {},
   "outputs": [
    {
     "data": {
      "text/plain": [
       "array([[0, 0, 0],\n",
       "       [0, 0, 0],\n",
       "       [0, 0, 0]])"
      ]
     },
     "execution_count": 6,
     "metadata": {},
     "output_type": "execute_result"
    }
   ],
   "source": [
    "#zero array\n",
    "arr = np.zeros(3,dtype=int)\n",
    "arr1 = np.zeros((3,3),dtype=int)\n",
    "arr1\n",
    "/# arr"
   ]
  },
  {
   "cell_type": "code",
   "execution_count": 7,
   "id": "adfbce09",
   "metadata": {},
   "outputs": [
    {
     "data": {
      "text/plain": [
       "array([ 1.        ,  3.33333333,  5.66666667,  8.        , 10.33333333,\n",
       "       12.66666667, 15.        , 17.33333333, 19.66666667, 22.        ])"
      ]
     },
     "execution_count": 7,
     "metadata": {},
     "output_type": "execute_result"
    }
   ],
   "source": [
    "#array with linear spacing between numbers\n",
    "arr = np.linspace(1,22,10)\n",
    "arr"
   ]
  },
  {
   "cell_type": "code",
   "execution_count": 9,
   "id": "9b1a5aad",
   "metadata": {},
   "outputs": [
    {
     "data": {
      "text/plain": [
       "array([[24, 41, 40, 31, 33, 21, 24, 25, 31, 17],\n",
       "       [13, 14, 37, 39, 40, 35, 19, 15, 14, 29],\n",
       "       [14, 17, 40, 44, 26, 42, 17, 20, 22, 43],\n",
       "       [22, 40, 38, 18, 22, 25, 16, 31, 31, 26],\n",
       "       [25, 33, 42, 27, 33, 19, 13, 24, 35, 15],\n",
       "       [31, 31, 16, 12, 12, 28, 19, 26, 26, 33],\n",
       "       [41, 13, 32, 26, 29, 32, 43, 18, 22, 18],\n",
       "       [23, 30, 33, 30, 28, 29, 12, 35, 34, 44],\n",
       "       [25, 34, 16, 18, 25, 13, 18, 34, 32, 23],\n",
       "       [16, 15, 37, 19, 35, 14, 41, 43, 33, 42]])"
      ]
     },
     "execution_count": 9,
     "metadata": {},
     "output_type": "execute_result"
    }
   ],
   "source": [
    "arr=np.random.randint(12,45,100).reshape(10,10)\n",
    "arr"
   ]
  },
  {
   "cell_type": "code",
   "execution_count": 13,
   "id": "e2aa3cbd",
   "metadata": {},
   "outputs": [
    {
     "data": {
      "text/plain": [
       "array([ 6,  8, 10, 12, 14])"
      ]
     },
     "execution_count": 13,
     "metadata": {},
     "output_type": "execute_result"
    }
   ],
   "source": [
    "arr = np.arange(0,5)\n",
    "arr1 = np.arange(1,6)\n",
    "a=(arr+5)+arr1\n",
    "a\n"
   ]
  },
  {
   "cell_type": "code",
   "execution_count": 24,
   "id": "05a62a03",
   "metadata": {},
   "outputs": [
    {
     "name": "stdout",
     "output_type": "stream",
     "text": [
      "(4, 6)\n",
      "(4, 6)\n"
     ]
    }
   ],
   "source": [
    "arr= np.arange(0,24).reshape(4,-1)\n",
    "print(arr.shape)\n",
    "arr1 = np.arange(1,25).reshape(4,-1)\n",
    "print(arr1.shape)\n",
    "\n"
   ]
  },
  {
   "cell_type": "code",
   "execution_count": 3,
   "id": "6f4af2fa",
   "metadata": {},
   "outputs": [
    {
     "name": "stdout",
     "output_type": "stream",
     "text": [
      "[[1 2 3]\n",
      " [4 5 6]]\n"
     ]
    }
   ],
   "source": [
    "#create a 2d array \n",
    "a = np.array([[1,2,3],[4,5,6]])\n",
    "print(a)"
   ]
  },
  {
   "cell_type": "code",
   "execution_count": 4,
   "id": "a9ebd2b3",
   "metadata": {},
   "outputs": [
    {
     "data": {
      "text/plain": [
       "array([[1, 2, 3, 4, 5, 6],\n",
       "       [7, 8, 9, 8, 7, 6],\n",
       "       [5, 4, 3, 2, 1, 1]])"
      ]
     },
     "execution_count": 4,
     "metadata": {},
     "output_type": "execute_result"
    }
   ],
   "source": [
    "a = np.array([1,2,3,4,5,6,7,8,9,8,7,6,5,4,3,2,1,1]).reshape(3,-1)\n",
    "a"
   ]
  },
  {
   "cell_type": "code",
   "execution_count": 8,
   "id": "6ea2afc2",
   "metadata": {},
   "outputs": [
    {
     "name": "stdout",
     "output_type": "stream",
     "text": [
      "[[[[1 2 3]]]]\n",
      "(1, 1, 1, 3)\n",
      "4\n"
     ]
    }
   ],
   "source": [
    "# create a 3d array\n",
    "a = np.array([[[1,2,3]]],ndmin=4)\n",
    "print(a)\n",
    "print(a.shape)\n",
    "print(a.ndim)"
   ]
  },
  {
   "cell_type": "code",
   "execution_count": 9,
   "id": "b3d068fc",
   "metadata": {},
   "outputs": [
    {
     "data": {
      "text/plain": [
       "array([[[ 0,  1],\n",
       "        [ 2,  3],\n",
       "        [ 4,  5],\n",
       "        [ 6,  7]],\n",
       "\n",
       "       [[ 8,  9],\n",
       "        [10, 11],\n",
       "        [12, 13],\n",
       "        [14, 15]]])"
      ]
     },
     "execution_count": 9,
     "metadata": {},
     "output_type": "execute_result"
    }
   ],
   "source": [
    "b = np.arange(0,16).reshape(2,4,2)\n",
    "b"
   ]
  },
  {
   "cell_type": "code",
   "execution_count": 10,
   "id": "c1947531",
   "metadata": {},
   "outputs": [
    {
     "data": {
      "text/plain": [
       "array([[ True,  True,  True],\n",
       "       [ True,  True,  True],\n",
       "       [ True,  True,  True]])"
      ]
     },
     "execution_count": 10,
     "metadata": {},
     "output_type": "execute_result"
    }
   ],
   "source": [
    "#creating an array full of trues\n",
    "a = np.ones((3,3),dtype=bool)\n",
    "a"
   ]
  },
  {
   "cell_type": "code",
   "execution_count": 17,
   "id": "d7ca7f02",
   "metadata": {},
   "outputs": [
    {
     "data": {
      "text/plain": [
       "array([[ True, False, False],\n",
       "       [False,  True, False],\n",
       "       [False, False,  True]])"
      ]
     },
     "execution_count": 17,
     "metadata": {},
     "output_type": "execute_result"
    }
   ],
   "source": [
    "#creating a diagonal true array and rest of them are false\n",
    "a =np.eye((3),dtype=bool)\n",
    "a"
   ]
  },
  {
   "cell_type": "code",
   "execution_count": 21,
   "id": "74753938",
   "metadata": {},
   "outputs": [],
   "source": [
    "#multiply 2 arrays\n",
    "a1 = np.array([[1,2,3],[4,5,6]])\n",
    "a2 = np.array([[4,5,6],[1,2,3]])\n",
    "a1*a2"
   ]
  },
  {
   "cell_type": "code",
   "execution_count": 24,
   "id": "cbb63de9",
   "metadata": {},
   "outputs": [
    {
     "data": {
      "text/plain": [
       "array([[2092, 2025],\n",
       "       [1995, 2057],\n",
       "       [1366, 1357]])"
      ]
     },
     "execution_count": 24,
     "metadata": {},
     "output_type": "execute_result"
    }
   ],
   "source": [
    "#dot product in numpy\n",
    "a1=np.random.randint(5,15,15).reshape(3,-1)\n",
    "a2=np.random.randint(30,45,10).reshape(5,-1)\n",
    "c = np.dot(a1,a2)\n",
    "c"
   ]
  },
  {
   "cell_type": "code",
   "execution_count": 30,
   "id": "b91e11c8",
   "metadata": {},
   "outputs": [
    {
     "name": "stdout",
     "output_type": "stream",
     "text": [
      "[631 718 310 114 830 651 797 344  65 688 127 453 262 831 588 213 305 765\n",
      " 658 159 211 244 749 286 797]\n"
     ]
    }
   ],
   "source": [
    "#to find the min and max in an array and the position of both\n",
    "a = np.random.randint(34,876,25)\n",
    "print(a)\n"
   ]
  },
  {
   "cell_type": "code",
   "execution_count": 31,
   "id": "0f9b6ac5",
   "metadata": {},
   "outputs": [
    {
     "name": "stdout",
     "output_type": "stream",
     "text": [
      "65\n"
     ]
    }
   ],
   "source": [
    "print(np.min(a))"
   ]
  },
  {
   "cell_type": "code",
   "execution_count": 32,
   "id": "780327ef",
   "metadata": {},
   "outputs": [
    {
     "name": "stdout",
     "output_type": "stream",
     "text": [
      "831\n"
     ]
    }
   ],
   "source": [
    "print(a.max())"
   ]
  },
  {
   "cell_type": "code",
   "execution_count": 34,
   "id": "92614d0e",
   "metadata": {},
   "outputs": [
    {
     "name": "stdout",
     "output_type": "stream",
     "text": [
      "13\n"
     ]
    }
   ],
   "source": [
    "print(np.argmax(a))"
   ]
  },
  {
   "cell_type": "code",
   "execution_count": 35,
   "id": "647586a5",
   "metadata": {},
   "outputs": [
    {
     "name": "stdout",
     "output_type": "stream",
     "text": [
      "8\n"
     ]
    }
   ],
   "source": [
    "print(a.argmin())"
   ]
  },
  {
   "cell_type": "code",
   "execution_count": 36,
   "id": "d4d749db",
   "metadata": {},
   "outputs": [
    {
     "name": "stdout",
     "output_type": "stream",
     "text": [
      "[[83 33 91 40 93]\n",
      " [31 38 19 20 95]\n",
      " [84 65 64 84 20]\n",
      " [97 68 87 96 76]\n",
      " [42 67 57 23 51]]\n"
     ]
    }
   ],
   "source": [
    "#finding the min and max in a 2d array and its position\n",
    "a = np.random.randint(13,98,25).reshape(5,5)\n",
    "print(a)"
   ]
  },
  {
   "cell_type": "code",
   "execution_count": 37,
   "id": "b68f45a0",
   "metadata": {},
   "outputs": [
    {
     "data": {
      "text/plain": [
       "19"
      ]
     },
     "execution_count": 37,
     "metadata": {},
     "output_type": "execute_result"
    }
   ],
   "source": [
    "a.min()"
   ]
  },
  {
   "cell_type": "code",
   "execution_count": 38,
   "id": "649f4b79",
   "metadata": {},
   "outputs": [
    {
     "data": {
      "text/plain": [
       "97"
      ]
     },
     "execution_count": 38,
     "metadata": {},
     "output_type": "execute_result"
    }
   ],
   "source": [
    "a.max()"
   ]
  },
  {
   "cell_type": "code",
   "execution_count": 39,
   "id": "31b59d1e",
   "metadata": {},
   "outputs": [
    {
     "data": {
      "text/plain": [
       "7"
      ]
     },
     "execution_count": 39,
     "metadata": {},
     "output_type": "execute_result"
    }
   ],
   "source": [
    "a.argmin()\n"
   ]
  },
  {
   "cell_type": "code",
   "execution_count": 40,
   "id": "f54a942b",
   "metadata": {},
   "outputs": [
    {
     "data": {
      "text/plain": [
       "15"
      ]
     },
     "execution_count": 40,
     "metadata": {},
     "output_type": "execute_result"
    }
   ],
   "source": [
    "a.argmax()"
   ]
  },
  {
   "cell_type": "code",
   "execution_count": 44,
   "id": "1f3dae98",
   "metadata": {},
   "outputs": [
    {
     "name": "stdout",
     "output_type": "stream",
     "text": [
      "[31 33 19 20 20]\n",
      "[93 95 84 97 67]\n",
      "7\n",
      "[1 0 1 1 2]\n"
     ]
    }
   ],
   "source": [
    "# if we want to know row or columwise which is min or max and the positions we need to give axis also\n",
    "#axis = 0 for columns and axis = 1 for row\n",
    "print(np.min(a,axis=0))\n",
    "print(np.max(a,axis=1))\n",
    "print(np.argmin(a))\n",
    "print(np.argmin(a,axis=0))"
   ]
  },
  {
   "cell_type": "code",
   "execution_count": 49,
   "id": "128472ff",
   "metadata": {},
   "outputs": [
    {
     "name": "stdout",
     "output_type": "stream",
     "text": [
      "[[44 81 58 20 86]\n",
      " [12 60 80 51 62]\n",
      " [81 72 82 60 83]]\n"
     ]
    }
   ],
   "source": [
    "b = np.random.randint(12,89,15).reshape(3,-1)\n",
    "print(b)"
   ]
  },
  {
   "cell_type": "code",
   "execution_count": 50,
   "id": "e79ad7a8",
   "metadata": {},
   "outputs": [
    {
     "name": "stdout",
     "output_type": "stream",
     "text": [
      "12\n"
     ]
    }
   ],
   "source": [
    "print(b.min())"
   ]
  },
  {
   "cell_type": "code",
   "execution_count": 53,
   "id": "dc10bc75",
   "metadata": {},
   "outputs": [
    {
     "name": "stdout",
     "output_type": "stream",
     "text": [
      "86\n"
     ]
    }
   ],
   "source": [
    "print(b.max())"
   ]
  },
  {
   "cell_type": "code",
   "execution_count": 54,
   "id": "c1bb9164",
   "metadata": {},
   "outputs": [
    {
     "name": "stdout",
     "output_type": "stream",
     "text": [
      "[81 81 82 60 86]\n"
     ]
    }
   ],
   "source": [
    "print(np.max(b,axis=0))"
   ]
  },
  {
   "cell_type": "code",
   "execution_count": 56,
   "id": "6ab4feff",
   "metadata": {},
   "outputs": [
    {
     "name": "stdout",
     "output_type": "stream",
     "text": [
      "[49 33 36 44 31 39 40 40 52 42 36 50]\n"
     ]
    }
   ],
   "source": [
    "#indexing the 1d array\n",
    "a = np.random.randint(29,56,12)\n",
    "print(a)"
   ]
  },
  {
   "cell_type": "code",
   "execution_count": 61,
   "id": "c6382dcd",
   "metadata": {},
   "outputs": [
    {
     "data": {
      "text/plain": [
       "40"
      ]
     },
     "execution_count": 61,
     "metadata": {},
     "output_type": "execute_result"
    }
   ],
   "source": [
    "a[6]"
   ]
  },
  {
   "cell_type": "code",
   "execution_count": 62,
   "id": "fb2d8343",
   "metadata": {},
   "outputs": [
    {
     "name": "stdout",
     "output_type": "stream",
     "text": [
      "[[27 42 41 34]\n",
      " [28 39 35 29]\n",
      " [39 23 30 31]]\n"
     ]
    }
   ],
   "source": [
    "#indexing 2d array\n",
    "a = np.random.randint(23,45,12).reshape(3,-1)\n",
    "print(a)"
   ]
  },
  {
   "cell_type": "code",
   "execution_count": 66,
   "id": "5825bcce",
   "metadata": {},
   "outputs": [
    {
     "data": {
      "text/plain": [
       "39"
      ]
     },
     "execution_count": 66,
     "metadata": {},
     "output_type": "execute_result"
    }
   ],
   "source": [
    "a[1][-3]"
   ]
  },
  {
   "cell_type": "code",
   "execution_count": 68,
   "id": "fb6d84cc",
   "metadata": {},
   "outputs": [
    {
     "name": "stdout",
     "output_type": "stream",
     "text": [
      "[[[73 17 18]\n",
      "  [68 55 62]\n",
      "  [15 73 62]\n",
      "  [44 32 38]]\n",
      "\n",
      " [[15 31 48]\n",
      "  [60 57 53]\n",
      "  [62 27 58]\n",
      "  [57 21 22]]]\n"
     ]
    }
   ],
   "source": [
    "#indexing in 3d array\n",
    "a = np.random.randint(12,78,24).reshape(2,4,-1)\n",
    "print(a)"
   ]
  },
  {
   "cell_type": "code",
   "execution_count": 69,
   "id": "5526a9d6",
   "metadata": {},
   "outputs": [
    {
     "name": "stdout",
     "output_type": "stream",
     "text": [
      "32\n"
     ]
    }
   ],
   "source": [
    "print(a[0][3][1])"
   ]
  },
  {
   "cell_type": "code",
   "execution_count": 70,
   "id": "52cade3c",
   "metadata": {},
   "outputs": [
    {
     "name": "stdout",
     "output_type": "stream",
     "text": [
      "[12 18 18 17 12 18 21 16 13 22]\n"
     ]
    }
   ],
   "source": [
    "#slicing in 1d array\n",
    "a = np.random.randint(12,23,10)\n",
    "print(a)"
   ]
  },
  {
   "cell_type": "code",
   "execution_count": 71,
   "id": "d3eefb3b",
   "metadata": {},
   "outputs": [
    {
     "name": "stdout",
     "output_type": "stream",
     "text": [
      "[17 12 18 21 16 13 22]\n"
     ]
    }
   ],
   "source": [
    "print(a[3:])"
   ]
  },
  {
   "cell_type": "code",
   "execution_count": 72,
   "id": "25744ae5",
   "metadata": {},
   "outputs": [
    {
     "name": "stdout",
     "output_type": "stream",
     "text": [
      "[12 18 18 17]\n"
     ]
    }
   ],
   "source": [
    "print(a[0:4])"
   ]
  },
  {
   "cell_type": "code",
   "execution_count": 74,
   "id": "d63f3f96",
   "metadata": {
    "scrolled": true
   },
   "outputs": [
    {
     "name": "stdout",
     "output_type": "stream",
     "text": [
      "[12 18 18 17]\n"
     ]
    }
   ],
   "source": [
    "print(a[:4])"
   ]
  },
  {
   "cell_type": "code",
   "execution_count": 78,
   "id": "9d694e86",
   "metadata": {},
   "outputs": [
    {
     "name": "stdout",
     "output_type": "stream",
     "text": [
      "[12 18 12 21 13]\n"
     ]
    }
   ],
   "source": [
    "print(a[::2])"
   ]
  },
  {
   "cell_type": "code",
   "execution_count": 76,
   "id": "79379494",
   "metadata": {},
   "outputs": [
    {
     "name": "stdout",
     "output_type": "stream",
     "text": [
      "[[ 7  7  8]\n",
      " [ 1 13 14]\n",
      " [10 12 16]\n",
      " [31 27 19]]\n"
     ]
    }
   ],
   "source": [
    "#slicing in 2d array\n",
    "aa = np.random.randint(1,34,12).reshape(4,-1)\n",
    "print(aa)"
   ]
  },
  {
   "cell_type": "code",
   "execution_count": 79,
   "id": "53c64715",
   "metadata": {},
   "outputs": [
    {
     "name": "stdout",
     "output_type": "stream",
     "text": [
      "[[13 14]\n",
      " [12 16]\n",
      " [27 19]]\n"
     ]
    }
   ],
   "source": [
    "print(aa[1:,1:])"
   ]
  },
  {
   "cell_type": "code",
   "execution_count": 85,
   "id": "006f352d",
   "metadata": {},
   "outputs": [
    {
     "name": "stdout",
     "output_type": "stream",
     "text": [
      "[[ 7  8]\n",
      " [ 1 14]\n",
      " [10 16]]\n"
     ]
    }
   ],
   "source": [
    "print(aa[:3,::2])"
   ]
  },
  {
   "cell_type": "code",
   "execution_count": 86,
   "id": "eabff091",
   "metadata": {
    "scrolled": true
   },
   "outputs": [
    {
     "name": "stdout",
     "output_type": "stream",
     "text": [
      "[[[4 5 2]\n",
      "  [5 3 3]\n",
      "  [5 6 4]\n",
      "  [2 2 4]]\n",
      "\n",
      " [[2 6 2]\n",
      "  [2 3 6]\n",
      "  [4 5 3]\n",
      "  [2 4 5]]]\n"
     ]
    }
   ],
   "source": [
    "#slicing in 3d array\n",
    "a = np.random.randint(2,7,24).reshape(2,4,-1)\n",
    "print(a)"
   ]
  },
  {
   "cell_type": "code",
   "execution_count": 87,
   "id": "f9985a59",
   "metadata": {},
   "outputs": [
    {
     "name": "stdout",
     "output_type": "stream",
     "text": [
      "[[[3 3]\n",
      "  [6 4]\n",
      "  [2 4]]\n",
      "\n",
      " [[3 6]\n",
      "  [5 3]\n",
      "  [4 5]]]\n"
     ]
    }
   ],
   "source": [
    "print(a[:,1:,1:])"
   ]
  },
  {
   "cell_type": "code",
   "execution_count": 88,
   "id": "de46780e",
   "metadata": {},
   "outputs": [
    {
     "name": "stdout",
     "output_type": "stream",
     "text": [
      "[[[4 2]\n",
      "  [5 4]]\n",
      "\n",
      " [[2 2]\n",
      "  [4 3]]]\n"
     ]
    }
   ],
   "source": [
    "print(a[:,::2,::2])"
   ]
  },
  {
   "cell_type": "code",
   "execution_count": 89,
   "id": "45f582cd",
   "metadata": {},
   "outputs": [
    {
     "name": "stdout",
     "output_type": "stream",
     "text": [
      "[ 5 11 11 14  5  7 12  2  5 14  4  8 14  3  4 11 14 13 13  8 13 14  4]\n"
     ]
    }
   ],
   "source": [
    "#integer indexing\n",
    "a = np.random.randint(2,15,23)\n",
    "print(a)"
   ]
  },
  {
   "cell_type": "code",
   "execution_count": 90,
   "id": "53203dfb",
   "metadata": {},
   "outputs": [
    {
     "name": "stdout",
     "output_type": "stream",
     "text": [
      "[11 14 12  5 14]\n"
     ]
    }
   ],
   "source": [
    "a1=np.array([1,3,6,8,9])\n",
    "print(a[a1])"
   ]
  },
  {
   "cell_type": "code",
   "execution_count": 91,
   "id": "f5dbfe86",
   "metadata": {},
   "outputs": [
    {
     "name": "stdout",
     "output_type": "stream",
     "text": [
      "[[ 2 36 33]\n",
      " [33 32 16]\n",
      " [28 41 17]\n",
      " [34 33 37]\n",
      " [16 18 16]]\n"
     ]
    }
   ],
   "source": [
    "#integer indexing in 2d array\n",
    "a = np.random.randint(2,43,15).reshape(5,-1)\n",
    "print(a)"
   ]
  },
  {
   "cell_type": "code",
   "execution_count": 96,
   "id": "5776939a",
   "metadata": {},
   "outputs": [
    {
     "name": "stdout",
     "output_type": "stream",
     "text": [
      "[ 2 36 17 33]\n"
     ]
    }
   ],
   "source": [
    "print(a[[0,0,2,3],[0,1,2,1]])"
   ]
  },
  {
   "cell_type": "code",
   "execution_count": 97,
   "id": "197cd9cd",
   "metadata": {},
   "outputs": [
    {
     "name": "stdout",
     "output_type": "stream",
     "text": [
      "[36 33 33 32 28 41 34 33 37]\n"
     ]
    }
   ],
   "source": [
    "#boolean indexing\n",
    "print(a[a>20])"
   ]
  },
  {
   "cell_type": "code",
   "execution_count": 100,
   "id": "4337846a",
   "metadata": {},
   "outputs": [
    {
     "name": "stdout",
     "output_type": "stream",
     "text": [
      "[[ 0  1  2]\n",
      " [ 3  4  5]\n",
      " [ 6  7  8]\n",
      " [ 9 10 11]]\n",
      "[1 2 3]\n",
      "[[ 1  3  5]\n",
      " [ 4  6  8]\n",
      " [ 7  9 11]\n",
      " [10 12 14]]\n"
     ]
    }
   ],
   "source": [
    "#broadcasting\n",
    "a = np.arange(0,12).reshape(4,-1)\n",
    "print(a)\n",
    "b = np.array([1,2,3])\n",
    "print(b)\n",
    "print(a+b)"
   ]
  },
  {
   "cell_type": "code",
   "execution_count": 101,
   "id": "2fd0d9f3",
   "metadata": {},
   "outputs": [
    {
     "name": "stdout",
     "output_type": "stream",
     "text": [
      "[[1 2 3]\n",
      " [4 1 2]\n",
      " [3 4 1]]\n"
     ]
    }
   ],
   "source": [
    "#resize: if an array contains only 4 elements and we need to resize it as a 3x2 matrix, this function  will resize \n",
    "#t automatically\n",
    "a=np.arange(1,5)\n",
    "b=np.resize(a,(3,3))\n",
    "print(b)"
   ]
  },
  {
   "cell_type": "code",
   "execution_count": 110,
   "id": "d933cafb",
   "metadata": {},
   "outputs": [
    {
     "name": "stdout",
     "output_type": "stream",
     "text": [
      "[[1 2 3 4 5]\n",
      " [4 5 6 7 8]]\n",
      "[1 2 3 4 5 4 5 6 7 8]\n",
      "[1 2 3 4 5 4 5 6 7 8]\n"
     ]
    }
   ],
   "source": [
    "#flatten and ravel. These functions are for arranging arrays horizontally\n",
    "a = np.array([[1,2,3,4,5],[4,5,6,7,8]])\n",
    "print(a)\n",
    "#flatten will create a copy \n",
    "flattened_a = a.flatten()\n",
    "print(flattened_a)\n",
    "print(np.ravel(a))\n"
   ]
  },
  {
   "cell_type": "code",
   "execution_count": 118,
   "id": "8b902f2b",
   "metadata": {},
   "outputs": [
    {
     "name": "stdout",
     "output_type": "stream",
     "text": [
      "[1 2 3 4]\n",
      "\n",
      "[5 6 7 8]\n",
      "[1 2 3 4 5 6 7 8]\n",
      "[[1 2 3 4]\n",
      " [5 6 7 8]]\n"
     ]
    }
   ],
   "source": [
    "#hstack and vstack\n",
    "a = np.arange(1,5)\n",
    "print(a)\n",
    "print()\n",
    "b = np.arange(5,9)\n",
    "print(b)\n",
    "print(np.hstack((a,b)))\n",
    "print(np.vstack((a,b)))"
   ]
  },
  {
   "cell_type": "code",
   "execution_count": 119,
   "id": "6b2b1636",
   "metadata": {},
   "outputs": [
    {
     "name": "stdout",
     "output_type": "stream",
     "text": [
      "[[ 0  1  2]\n",
      " [ 3  4  5]\n",
      " [ 6  7  8]\n",
      " [ 9 10 11]]\n",
      "[[24 43 32]\n",
      " [15 16 17]\n",
      " [16  5 41]\n",
      " [38  9 11]]\n"
     ]
    }
   ],
   "source": [
    "#hstack and vstack in 2d\n",
    "a = np.arange(0,12).reshape(4,-1)\n",
    "b = np.random.randint(3,45,12).reshape(4,-1)\n",
    "print(a)\n",
    "print(b)"
   ]
  },
  {
   "cell_type": "code",
   "execution_count": 120,
   "id": "4fff4fa8",
   "metadata": {},
   "outputs": [
    {
     "name": "stdout",
     "output_type": "stream",
     "text": [
      "[[ 0  1  2 24 43 32]\n",
      " [ 3  4  5 15 16 17]\n",
      " [ 6  7  8 16  5 41]\n",
      " [ 9 10 11 38  9 11]]\n"
     ]
    }
   ],
   "source": [
    "print(np.hstack((a,b)))"
   ]
  },
  {
   "cell_type": "code",
   "execution_count": 121,
   "id": "2d7f4ac1",
   "metadata": {},
   "outputs": [
    {
     "name": "stdout",
     "output_type": "stream",
     "text": [
      "[[ 0  1  2]\n",
      " [ 3  4  5]\n",
      " [ 6  7  8]\n",
      " [ 9 10 11]\n",
      " [24 43 32]\n",
      " [15 16 17]\n",
      " [16  5 41]\n",
      " [38  9 11]]\n"
     ]
    }
   ],
   "source": [
    "print(np.vstack((a,b)))"
   ]
  },
  {
   "cell_type": "code",
   "execution_count": 122,
   "id": "2f9364eb",
   "metadata": {},
   "outputs": [
    {
     "name": "stdout",
     "output_type": "stream",
     "text": [
      "[[ 0  1  2 24 43 32]\n",
      " [ 3  4  5 15 16 17]\n",
      " [ 6  7  8 16  5 41]\n",
      " [ 9 10 11 38  9 11]]\n"
     ]
    }
   ],
   "source": [
    "a1 = np.hstack((a,b))\n",
    "print(a1)"
   ]
  },
  {
   "cell_type": "code",
   "execution_count": 123,
   "id": "ce414f35",
   "metadata": {},
   "outputs": [
    {
     "name": "stdout",
     "output_type": "stream",
     "text": [
      "[[1 2 3]\n",
      " [4 5 6]\n",
      " [7 8 9]]\n"
     ]
    }
   ],
   "source": [
    "#matrix\n",
    "a = np.matrix(\"1,2,3;4,5,6;7,8,9\")\n",
    "print(a)"
   ]
  },
  {
   "cell_type": "code",
   "execution_count": 126,
   "id": "6199f6c2",
   "metadata": {},
   "outputs": [
    {
     "name": "stdout",
     "output_type": "stream",
     "text": [
      "[[1 2]\n",
      " [3 4]\n",
      " [5 6]]\n"
     ]
    }
   ],
   "source": [
    "b=np.matrix([[1,2],[3,4],[5,6]])\n",
    "print(b)"
   ]
  },
  {
   "cell_type": "code",
   "execution_count": 129,
   "id": "a9765df6",
   "metadata": {},
   "outputs": [
    {
     "name": "stdout",
     "output_type": "stream",
     "text": [
      "[[ 22  28]\n",
      " [ 49  64]\n",
      " [ 76 100]]\n",
      "[[ 22  49  76]\n",
      " [ 28  64 100]]\n"
     ]
    }
   ],
   "source": [
    "c=a*b\n",
    "print(c)\n",
    "print(c.T)"
   ]
  },
  {
   "cell_type": "code",
   "execution_count": 132,
   "id": "959b915b",
   "metadata": {},
   "outputs": [
    {
     "name": "stdout",
     "output_type": "stream",
     "text": [
      "[[0 1]\n",
      " [2 3]]\n",
      "[[-1.5  0.5]\n",
      " [ 1.   0. ]]\n"
     ]
    }
   ],
   "source": [
    "#inverse of a matrix\n",
    "a=np.arange(0,4).reshape(2,2)\n",
    "print(a)\n",
    "a1 = np.linalg.inv(a)\n",
    "print(a1)"
   ]
  },
  {
   "cell_type": "code",
   "execution_count": 133,
   "id": "4cddc238",
   "metadata": {},
   "outputs": [
    {
     "name": "stdout",
     "output_type": "stream",
     "text": [
      "-2.0\n"
     ]
    }
   ],
   "source": [
    "#determinant\n",
    "a2 = np.linalg.det(a)\n",
    "print(a2)"
   ]
  },
  {
   "cell_type": "code",
   "execution_count": null,
   "id": "fbb50b73",
   "metadata": {},
   "outputs": [],
   "source": []
  }
 ],
 "metadata": {
  "kernelspec": {
   "display_name": "Python 3 (ipykernel)",
   "language": "python",
   "name": "python3"
  },
  "language_info": {
   "codemirror_mode": {
    "name": "ipython",
    "version": 3
   },
   "file_extension": ".py",
   "mimetype": "text/x-python",
   "name": "python",
   "nbconvert_exporter": "python",
   "pygments_lexer": "ipython3",
   "version": "3.10.9"
  }
 },
 "nbformat": 4,
 "nbformat_minor": 5
}
