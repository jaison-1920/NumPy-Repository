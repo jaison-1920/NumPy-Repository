{
 "cells": [
  {
   "cell_type": "code",
   "execution_count": 2,
   "id": "22950683",
   "metadata": {},
   "outputs": [],
   "source": [
    "import numpy as np"
   ]
  },
  {
   "cell_type": "markdown",
   "id": "50d4953e",
   "metadata": {},
   "source": [
    "# 1.elementry addition of two similiar arrays"
   ]
  },
  {
   "cell_type": "code",
   "execution_count": 4,
   "id": "0e19376b",
   "metadata": {},
   "outputs": [
    {
     "name": "stdout",
     "output_type": "stream",
     "text": [
      "[[1 2 3]\n",
      " [4 5 6]] [[4 5 6]\n",
      " [1 2 3]]\n"
     ]
    },
    {
     "data": {
      "text/plain": [
       "array([[5, 7, 9],\n",
       "       [5, 7, 9]])"
      ]
     },
     "execution_count": 4,
     "metadata": {},
     "output_type": "execute_result"
    }
   ],
   "source": [
    "a = np.array([[1,2,3,],[4,5,6]])\n",
    "b = np.array([[4,5,6,],[1,2,3]])\n",
    "print(a,b)\n",
    "c = a + b\n",
    "c"
   ]
  },
  {
   "cell_type": "markdown",
   "id": "9ea0b53c",
   "metadata": {},
   "source": [
    "# 2.Multiplying a matrix (numpy array) by a scalar"
   ]
  },
  {
   "cell_type": "code",
   "execution_count": 6,
   "id": "cfbb6bf5",
   "metadata": {},
   "outputs": [
    {
     "data": {
      "text/plain": [
       "array([[ 0,  2,  4],\n",
       "       [ 6,  8, 10]])"
      ]
     },
     "execution_count": 6,
     "metadata": {},
     "output_type": "execute_result"
    }
   ],
   "source": [
    "a1 = np.arange(0,6).reshape(2,3)\n",
    "a1*2"
   ]
  },
  {
   "cell_type": "markdown",
   "id": "b44e5c71",
   "metadata": {},
   "source": [
    "# Create an identity matrix of dimension 4-by-4"
   ]
  },
  {
   "cell_type": "code",
   "execution_count": 8,
   "id": "f00dade3",
   "metadata": {},
   "outputs": [
    {
     "data": {
      "text/plain": [
       "array([[1., 0., 0., 0.],\n",
       "       [0., 1., 0., 0.],\n",
       "       [0., 0., 1., 0.],\n",
       "       [0., 0., 0., 1.]])"
      ]
     },
     "execution_count": 8,
     "metadata": {},
     "output_type": "execute_result"
    }
   ],
   "source": [
    "a = np.eye(4)\n",
    "a"
   ]
  },
  {
   "cell_type": "markdown",
   "id": "d94a9cf6",
   "metadata": {},
   "source": [
    "# Convert a 1-D array to a 3-D array"
   ]
  },
  {
   "cell_type": "code",
   "execution_count": 9,
   "id": "105882fd",
   "metadata": {},
   "outputs": [
    {
     "data": {
      "text/plain": [
       "array([[[ 0,  1,  2,  3],\n",
       "        [ 4,  5,  6,  7],\n",
       "        [ 8,  9, 10, 11],\n",
       "        [12, 13, 14, 15]],\n",
       "\n",
       "       [[16, 17, 18, 19],\n",
       "        [20, 21, 22, 23],\n",
       "        [24, 25, 26, 27],\n",
       "        [28, 29, 30, 31]]])"
      ]
     },
     "execution_count": 9,
     "metadata": {},
     "output_type": "execute_result"
    }
   ],
   "source": [
    "a = np.arange(0,32).reshape(2,4,4)\n",
    "a"
   ]
  },
  {
   "cell_type": "markdown",
   "id": "2014c22a",
   "metadata": {},
   "source": [
    "# Horizontal Stacking of Numpy Arrays"
   ]
  },
  {
   "cell_type": "code",
   "execution_count": 11,
   "id": "1d2d855b",
   "metadata": {},
   "outputs": [
    {
     "data": {
      "text/plain": [
       "array([[ 0,  1,  2,  6,  7,  8],\n",
       "       [ 3,  4,  5,  9, 10, 11]])"
      ]
     },
     "execution_count": 11,
     "metadata": {},
     "output_type": "execute_result"
    }
   ],
   "source": [
    "a = np.arange(0,6).reshape(2,3)\n",
    "b = np.arange(6,12).reshape(2,3)\n",
    "c = np.hstack((a,b))\n",
    "c"
   ]
  },
  {
   "cell_type": "markdown",
   "id": "1e6101e2",
   "metadata": {},
   "source": [
    "# Vertical Stacking of Numpy Arrays"
   ]
  },
  {
   "cell_type": "code",
   "execution_count": 12,
   "id": "15cda828",
   "metadata": {},
   "outputs": [
    {
     "data": {
      "text/plain": [
       "array([[ 1,  2],\n",
       "       [ 3,  4],\n",
       "       [ 5,  6],\n",
       "       [ 7,  8],\n",
       "       [ 9, 10],\n",
       "       [10, 11]])"
      ]
     },
     "execution_count": 12,
     "metadata": {},
     "output_type": "execute_result"
    }
   ],
   "source": [
    "a1 = np.array([[1,2],\n",
    "               [3,4],\n",
    "               [5,6]])\n",
    "\n",
    "a2 = np.array([[7,8],\n",
    "               [9,10],\n",
    "               [10,11]])\n",
    "c = np.vstack((a1,a2))\n",
    "c"
   ]
  },
  {
   "cell_type": "markdown",
   "id": "a9a3ef27",
   "metadata": {},
   "source": [
    "## Random 10x10 array "
   ]
  },
  {
   "cell_type": "code",
   "execution_count": 3,
   "id": "155beefa",
   "metadata": {},
   "outputs": [
    {
     "data": {
      "text/plain": [
       "array([[ 0,  1,  2,  3,  4,  5,  6,  7,  8,  9],\n",
       "       [10, 11, 12, 13, 14, 15, 16, 17, 18, 19],\n",
       "       [20, 21, 22, 23, 24, 25, 26, 27, 28, 29],\n",
       "       [30, 31, 32, 33, 34, 35, 36, 37, 38, 39],\n",
       "       [40, 41, 42, 43, 44, 45, 46, 47, 48, 49],\n",
       "       [50, 51, 52, 53, 54, 55, 56, 57, 58, 59],\n",
       "       [60, 61, 62, 63, 64, 65, 66, 67, 68, 69],\n",
       "       [70, 71, 72, 73, 74, 75, 76, 77, 78, 79],\n",
       "       [80, 81, 82, 83, 84, 85, 86, 87, 88, 89],\n",
       "       [90, 91, 92, 93, 94, 95, 96, 97, 98, 99]])"
      ]
     },
     "execution_count": 3,
     "metadata": {},
     "output_type": "execute_result"
    }
   ],
   "source": [
    "a = np.arange(0,100).reshape(10,10)\n",
    "a"
   ]
  },
  {
   "cell_type": "code",
   "execution_count": 4,
   "id": "30c9ae86",
   "metadata": {},
   "outputs": [
    {
     "data": {
      "text/plain": [
       "array([[ 0, 10, 20, 30, 40, 50, 60, 70, 80, 90],\n",
       "       [ 1, 11, 21, 31, 41, 51, 61, 71, 81, 91],\n",
       "       [ 2, 12, 22, 32, 42, 52, 62, 72, 82, 92],\n",
       "       [ 3, 13, 23, 33, 43, 53, 63, 73, 83, 93],\n",
       "       [ 4, 14, 24, 34, 44, 54, 64, 74, 84, 94],\n",
       "       [ 5, 15, 25, 35, 45, 55, 65, 75, 85, 95],\n",
       "       [ 6, 16, 26, 36, 46, 56, 66, 76, 86, 96],\n",
       "       [ 7, 17, 27, 37, 47, 57, 67, 77, 87, 97],\n",
       "       [ 8, 18, 28, 38, 48, 58, 68, 78, 88, 98],\n",
       "       [ 9, 19, 29, 39, 49, 59, 69, 79, 89, 99]])"
      ]
     },
     "execution_count": 4,
     "metadata": {},
     "output_type": "execute_result"
    }
   ],
   "source": [
    "a.T"
   ]
  },
  {
   "cell_type": "markdown",
   "id": "75d50b1b",
   "metadata": {},
   "source": [
    "### creating a boolean array "
   ]
  },
  {
   "cell_type": "code",
   "execution_count": 6,
   "id": "f1e1d584",
   "metadata": {},
   "outputs": [
    {
     "data": {
      "text/plain": [
       "array([[ True,  True,  True],\n",
       "       [ True,  True,  True],\n",
       "       [ True,  True,  True]])"
      ]
     },
     "execution_count": 6,
     "metadata": {},
     "output_type": "execute_result"
    }
   ],
   "source": [
    "# creating a 3x3 array full of true\n",
    "a = np.ones((3,3),dtype=bool)\n",
    "a"
   ]
  },
  {
   "cell_type": "code",
   "execution_count": 11,
   "id": "c5b18a59",
   "metadata": {},
   "outputs": [
    {
     "data": {
      "text/plain": [
       "array([[ True,  True,  True],\n",
       "       [ True,  True,  True],\n",
       "       [ True,  True,  True]])"
      ]
     },
     "execution_count": 11,
     "metadata": {},
     "output_type": "execute_result"
    }
   ],
   "source": [
    "a = np.full((3,3),True,dtype=bool)\n",
    "a"
   ]
  },
  {
   "cell_type": "markdown",
   "id": "6c7cfedf",
   "metadata": {},
   "source": [
    "### from an array of 0 to 9 extract all the odd numbers"
   ]
  },
  {
   "cell_type": "code",
   "execution_count": 13,
   "id": "f7587d24",
   "metadata": {},
   "outputs": [
    {
     "data": {
      "text/plain": [
       "array([1, 3, 5, 7, 9])"
      ]
     },
     "execution_count": 13,
     "metadata": {},
     "output_type": "execute_result"
    }
   ],
   "source": [
    "a = np.arange(0,10)\n",
    "a[a%2==1]"
   ]
  },
  {
   "cell_type": "markdown",
   "id": "518b16ed",
   "metadata": {},
   "source": [
    "#### replace all the odd number with -1 "
   ]
  },
  {
   "cell_type": "code",
   "execution_count": 22,
   "id": "12d74ccc",
   "metadata": {},
   "outputs": [
    {
     "data": {
      "text/plain": [
       "array([-1,  2, -1,  4, -1,  6, -1,  8, -1, 10])"
      ]
     },
     "execution_count": 22,
     "metadata": {},
     "output_type": "execute_result"
    }
   ],
   "source": [
    "a = np.arange(1,11)\n",
    "a[a%2!=0]=-1\n",
    "a"
   ]
  },
  {
   "cell_type": "markdown",
   "id": "4be4b6b3",
   "metadata": {},
   "source": [
    "#### replace all odd number with -1 without changing the array "
   ]
  },
  {
   "cell_type": "code",
   "execution_count": 25,
   "id": "e748e813",
   "metadata": {},
   "outputs": [
    {
     "name": "stdout",
     "output_type": "stream",
     "text": [
      "[0 1 2 3 4 5 6 7 8 9]\n",
      "[ 0 -1  2 -1  4 -1  6 -1  8 -1]\n"
     ]
    }
   ],
   "source": [
    "# np.where(condition,x,y) is a function used in conditional situations. First condition will be given, if the condition is\n",
    "# satisfying,then x will work ,if not y will work. Here if array value is odd, then -1 will be assigned , if not the \n",
    "# corresponding array value will be assigned\n",
    "a = np.arange(0,10)\n",
    "out = np.where(a%2==1,-1,a)\n",
    "print(a)\n",
    "print(out)"
   ]
  },
  {
   "cell_type": "code",
   "execution_count": 6,
   "id": "ace16d3a",
   "metadata": {},
   "outputs": [
    {
     "data": {
      "text/plain": [
       "array([[0, 0, 0],\n",
       "       [0, 0, 0],\n",
       "       [0, 0, 0]])"
      ]
     },
     "execution_count": 6,
     "metadata": {},
     "output_type": "execute_result"
    }
   ],
   "source": [
    "#zero array\n",
    "arr = np.zeros(3,dtype=int)\n",
    "arr1 = np.zeros((3,3),dtype=int)\n",
    "arr1\n",
    "/# arr"
   ]
  },
  {
   "cell_type": "code",
   "execution_count": 7,
   "id": "adfbce09",
   "metadata": {},
   "outputs": [
    {
     "data": {
      "text/plain": [
       "array([ 1.        ,  3.33333333,  5.66666667,  8.        , 10.33333333,\n",
       "       12.66666667, 15.        , 17.33333333, 19.66666667, 22.        ])"
      ]
     },
     "execution_count": 7,
     "metadata": {},
     "output_type": "execute_result"
    }
   ],
   "source": [
    "#array with linear spacing between numbers\n",
    "arr = np.linspace(1,22,10)\n",
    "arr"
   ]
  },
  {
   "cell_type": "code",
   "execution_count": 9,
   "id": "9b1a5aad",
   "metadata": {},
   "outputs": [
    {
     "data": {
      "text/plain": [
       "array([[24, 41, 40, 31, 33, 21, 24, 25, 31, 17],\n",
       "       [13, 14, 37, 39, 40, 35, 19, 15, 14, 29],\n",
       "       [14, 17, 40, 44, 26, 42, 17, 20, 22, 43],\n",
       "       [22, 40, 38, 18, 22, 25, 16, 31, 31, 26],\n",
       "       [25, 33, 42, 27, 33, 19, 13, 24, 35, 15],\n",
       "       [31, 31, 16, 12, 12, 28, 19, 26, 26, 33],\n",
       "       [41, 13, 32, 26, 29, 32, 43, 18, 22, 18],\n",
       "       [23, 30, 33, 30, 28, 29, 12, 35, 34, 44],\n",
       "       [25, 34, 16, 18, 25, 13, 18, 34, 32, 23],\n",
       "       [16, 15, 37, 19, 35, 14, 41, 43, 33, 42]])"
      ]
     },
     "execution_count": 9,
     "metadata": {},
     "output_type": "execute_result"
    }
   ],
   "source": [
    "arr=np.random.randint(12,45,100).reshape(10,10)\n",
    "arr"
   ]
  },
  {
   "cell_type": "code",
   "execution_count": 13,
   "id": "e2aa3cbd",
   "metadata": {},
   "outputs": [
    {
     "data": {
      "text/plain": [
       "array([ 6,  8, 10, 12, 14])"
      ]
     },
     "execution_count": 13,
     "metadata": {},
     "output_type": "execute_result"
    }
   ],
   "source": [
    "arr = np.arange(0,5)\n",
    "arr1 = np.arange(1,6)\n",
    "a=(arr+5)+arr1\n",
    "a\n"
   ]
  },
  {
   "cell_type": "code",
   "execution_count": 24,
   "id": "05a62a03",
   "metadata": {},
   "outputs": [
    {
     "name": "stdout",
     "output_type": "stream",
     "text": [
      "(4, 6)\n",
      "(4, 6)\n"
     ]
    }
   ],
   "source": [
    "arr= np.arange(0,24).reshape(4,-1)\n",
    "print(arr.shape)\n",
    "arr1 = np.arange(1,25).reshape(4,-1)\n",
    "print(arr1.shape)\n",
    "\n"
   ]
  },
  {
   "cell_type": "code",
   "execution_count": null,
   "id": "6f4af2fa",
   "metadata": {},
   "outputs": [],
   "source": []
  }
 ],
 "metadata": {
  "kernelspec": {
   "display_name": "Python 3 (ipykernel)",
   "language": "python",
   "name": "python3"
  },
  "language_info": {
   "codemirror_mode": {
    "name": "ipython",
    "version": 3
   },
   "file_extension": ".py",
   "mimetype": "text/x-python",
   "name": "python",
   "nbconvert_exporter": "python",
   "pygments_lexer": "ipython3",
   "version": "3.10.9"
  }
 },
 "nbformat": 4,
 "nbformat_minor": 5
}
